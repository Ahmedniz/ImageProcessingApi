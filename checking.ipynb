{
 "cells": [
  {
   "cell_type": "code",
   "execution_count": null,
   "id": "63c767e9",
   "metadata": {},
   "outputs": [],
   "source": [
    "import cv2\n",
    "import numpy as np\n",
    "img = cv2.imread(\"sean.jpg\")\n",
    "#We will be factoring down images using the already scaled.\n",
    "lwr1 = cv2.pyrDown(img)\n",
    "lwr2 = cv2.pyrDown(lwr1)\n",
    "lwr3 = cv2.pyrDown(lwr2)\n",
    "lwr4 = cv2.pyrDown(lwr3)\n",
    "# We will be Increasing the resolution of already scaled down image that is lwr4.\n",
    "hir1 = cv2.pyrUp(lwr3)\n",
    "\n",
    "cv2.imshow(\"Original image\", img)\n",
    "cv2.imshow(\"First Scaled Down Image\", lwr1)\n",
    "cv2.imshow(\"Second Scaled Down Image\", lwr2)\n",
    "cv2.imshow(\"Third Scaled Down Image\", lwr3)\n",
    "cv2.imshow(\"Fourth Scaled Down Image\", lwr4)\n",
    "cv2.imshow(\"First Scaled Up Image\", hir1)\n",
    "\n",
    "cv2.waitKey(0)\n",
    "cv2.destroyAllWindows()"
   ]
  }
 ],
 "metadata": {
  "kernelspec": {
   "display_name": "Python 3 (ipykernel)",
   "language": "python",
   "name": "python3"
  },
  "language_info": {
   "codemirror_mode": {
    "name": "ipython",
    "version": 3
   },
   "file_extension": ".py",
   "mimetype": "text/x-python",
   "name": "python",
   "nbconvert_exporter": "python",
   "pygments_lexer": "ipython3",
   "version": "3.8.16"
  }
 },
 "nbformat": 4,
 "nbformat_minor": 5
}
